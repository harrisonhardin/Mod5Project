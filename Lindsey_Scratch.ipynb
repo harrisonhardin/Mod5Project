{
 "cells": [
  {
   "cell_type": "markdown",
   "metadata": {},
   "source": [
    "# Goal\n",
    "\n",
    "Can a classification model determine if a wine is white or red?\n",
    "\n",
    "Which classification model, if any, works best to classify this data based on these variables?"
   ]
  },
  {
   "cell_type": "code",
   "execution_count": 1,
   "metadata": {},
   "outputs": [],
   "source": [
    "# Imports\n",
    "\n",
    "# Data import and manipulation\n",
    "import pandas as pd\n",
    "\n",
    "# Math\n",
    "import numpy as np\n",
    "\n",
    "# Some statistics, including some checks for normality and skew\n",
    "from scipy import stats\n",
    "from scipy.stats import norm, skew\n",
    "\n",
    "# Visualization\n",
    "import matplotlib.pyplot as plt\n",
    "# Prettier visualizations\n",
    "import seaborn as sns\n",
    "# Sets the default style for seaborn, adding the nice darkgrid background\n",
    "sns.set()\n",
    "%matplotlib inline"
   ]
  },
  {
   "cell_type": "code",
   "execution_count": 2,
   "metadata": {},
   "outputs": [],
   "source": [
    "# Reading the csv, which already has an index column\n",
    "df = pd.read_csv(\"wine-data/winemag-data-130k-v2.csv\", index_col=0)"
   ]
  },
  {
   "cell_type": "code",
   "execution_count": 3,
   "metadata": {},
   "outputs": [
    {
     "data": {
      "text/html": [
       "<div>\n",
       "<style scoped>\n",
       "    .dataframe tbody tr th:only-of-type {\n",
       "        vertical-align: middle;\n",
       "    }\n",
       "\n",
       "    .dataframe tbody tr th {\n",
       "        vertical-align: top;\n",
       "    }\n",
       "\n",
       "    .dataframe thead th {\n",
       "        text-align: right;\n",
       "    }\n",
       "</style>\n",
       "<table border=\"1\" class=\"dataframe\">\n",
       "  <thead>\n",
       "    <tr style=\"text-align: right;\">\n",
       "      <th></th>\n",
       "      <th>country</th>\n",
       "      <th>description</th>\n",
       "      <th>designation</th>\n",
       "      <th>points</th>\n",
       "      <th>price</th>\n",
       "      <th>province</th>\n",
       "      <th>region_1</th>\n",
       "      <th>region_2</th>\n",
       "      <th>taster_name</th>\n",
       "      <th>taster_twitter_handle</th>\n",
       "      <th>title</th>\n",
       "      <th>variety</th>\n",
       "      <th>winery</th>\n",
       "    </tr>\n",
       "  </thead>\n",
       "  <tbody>\n",
       "    <tr>\n",
       "      <th>0</th>\n",
       "      <td>Italy</td>\n",
       "      <td>Aromas include tropical fruit, broom, brimston...</td>\n",
       "      <td>Vulkà Bianco</td>\n",
       "      <td>87</td>\n",
       "      <td>NaN</td>\n",
       "      <td>Sicily &amp; Sardinia</td>\n",
       "      <td>Etna</td>\n",
       "      <td>NaN</td>\n",
       "      <td>Kerin O’Keefe</td>\n",
       "      <td>@kerinokeefe</td>\n",
       "      <td>Nicosia 2013 Vulkà Bianco  (Etna)</td>\n",
       "      <td>White Blend</td>\n",
       "      <td>Nicosia</td>\n",
       "    </tr>\n",
       "    <tr>\n",
       "      <th>1</th>\n",
       "      <td>Portugal</td>\n",
       "      <td>This is ripe and fruity, a wine that is smooth...</td>\n",
       "      <td>Avidagos</td>\n",
       "      <td>87</td>\n",
       "      <td>15.0</td>\n",
       "      <td>Douro</td>\n",
       "      <td>NaN</td>\n",
       "      <td>NaN</td>\n",
       "      <td>Roger Voss</td>\n",
       "      <td>@vossroger</td>\n",
       "      <td>Quinta dos Avidagos 2011 Avidagos Red (Douro)</td>\n",
       "      <td>Portuguese Red</td>\n",
       "      <td>Quinta dos Avidagos</td>\n",
       "    </tr>\n",
       "    <tr>\n",
       "      <th>2</th>\n",
       "      <td>US</td>\n",
       "      <td>Tart and snappy, the flavors of lime flesh and...</td>\n",
       "      <td>NaN</td>\n",
       "      <td>87</td>\n",
       "      <td>14.0</td>\n",
       "      <td>Oregon</td>\n",
       "      <td>Willamette Valley</td>\n",
       "      <td>Willamette Valley</td>\n",
       "      <td>Paul Gregutt</td>\n",
       "      <td>@paulgwine</td>\n",
       "      <td>Rainstorm 2013 Pinot Gris (Willamette Valley)</td>\n",
       "      <td>Pinot Gris</td>\n",
       "      <td>Rainstorm</td>\n",
       "    </tr>\n",
       "    <tr>\n",
       "      <th>3</th>\n",
       "      <td>US</td>\n",
       "      <td>Pineapple rind, lemon pith and orange blossom ...</td>\n",
       "      <td>Reserve Late Harvest</td>\n",
       "      <td>87</td>\n",
       "      <td>13.0</td>\n",
       "      <td>Michigan</td>\n",
       "      <td>Lake Michigan Shore</td>\n",
       "      <td>NaN</td>\n",
       "      <td>Alexander Peartree</td>\n",
       "      <td>NaN</td>\n",
       "      <td>St. Julian 2013 Reserve Late Harvest Riesling ...</td>\n",
       "      <td>Riesling</td>\n",
       "      <td>St. Julian</td>\n",
       "    </tr>\n",
       "    <tr>\n",
       "      <th>4</th>\n",
       "      <td>US</td>\n",
       "      <td>Much like the regular bottling from 2012, this...</td>\n",
       "      <td>Vintner's Reserve Wild Child Block</td>\n",
       "      <td>87</td>\n",
       "      <td>65.0</td>\n",
       "      <td>Oregon</td>\n",
       "      <td>Willamette Valley</td>\n",
       "      <td>Willamette Valley</td>\n",
       "      <td>Paul Gregutt</td>\n",
       "      <td>@paulgwine</td>\n",
       "      <td>Sweet Cheeks 2012 Vintner's Reserve Wild Child...</td>\n",
       "      <td>Pinot Noir</td>\n",
       "      <td>Sweet Cheeks</td>\n",
       "    </tr>\n",
       "  </tbody>\n",
       "</table>\n",
       "</div>"
      ],
      "text/plain": [
       "    country                                        description  \\\n",
       "0     Italy  Aromas include tropical fruit, broom, brimston...   \n",
       "1  Portugal  This is ripe and fruity, a wine that is smooth...   \n",
       "2        US  Tart and snappy, the flavors of lime flesh and...   \n",
       "3        US  Pineapple rind, lemon pith and orange blossom ...   \n",
       "4        US  Much like the regular bottling from 2012, this...   \n",
       "\n",
       "                          designation  points  price           province  \\\n",
       "0                        Vulkà Bianco      87    NaN  Sicily & Sardinia   \n",
       "1                            Avidagos      87   15.0              Douro   \n",
       "2                                 NaN      87   14.0             Oregon   \n",
       "3                Reserve Late Harvest      87   13.0           Michigan   \n",
       "4  Vintner's Reserve Wild Child Block      87   65.0             Oregon   \n",
       "\n",
       "              region_1           region_2         taster_name  \\\n",
       "0                 Etna                NaN       Kerin O’Keefe   \n",
       "1                  NaN                NaN          Roger Voss   \n",
       "2    Willamette Valley  Willamette Valley        Paul Gregutt   \n",
       "3  Lake Michigan Shore                NaN  Alexander Peartree   \n",
       "4    Willamette Valley  Willamette Valley        Paul Gregutt   \n",
       "\n",
       "  taster_twitter_handle                                              title  \\\n",
       "0          @kerinokeefe                  Nicosia 2013 Vulkà Bianco  (Etna)   \n",
       "1            @vossroger      Quinta dos Avidagos 2011 Avidagos Red (Douro)   \n",
       "2           @paulgwine       Rainstorm 2013 Pinot Gris (Willamette Valley)   \n",
       "3                   NaN  St. Julian 2013 Reserve Late Harvest Riesling ...   \n",
       "4           @paulgwine   Sweet Cheeks 2012 Vintner's Reserve Wild Child...   \n",
       "\n",
       "          variety               winery  \n",
       "0     White Blend              Nicosia  \n",
       "1  Portuguese Red  Quinta dos Avidagos  \n",
       "2      Pinot Gris            Rainstorm  \n",
       "3        Riesling           St. Julian  \n",
       "4      Pinot Noir         Sweet Cheeks  "
      ]
     },
     "execution_count": 3,
     "metadata": {},
     "output_type": "execute_result"
    }
   ],
   "source": [
    "df.head()"
   ]
  },
  {
   "cell_type": "markdown",
   "metadata": {},
   "source": [
    "Data in the description and designation columns are going to give away what kind of wine it is in many cases. We also are not interested in details about the taster of the wine. Additionally, the region information has a lot of variety but does not give us that much more data than country, province and winery. Thus, we'll remove those columns, as well as the title for each wine, and leave only columns that we hope will work as potential predicters of variety."
   ]
  },
  {
   "cell_type": "code",
   "execution_count": 4,
   "metadata": {},
   "outputs": [],
   "source": [
    "data = df.drop(columns=[\"description\", \"designation\", \"region_1\", \"region_2\",\n",
    "                        \"taster_name\", \"taster_twitter_handle\", \"title\"])"
   ]
  },
  {
   "cell_type": "markdown",
   "metadata": {},
   "source": [
    "### Exploring the Data"
   ]
  },
  {
   "cell_type": "code",
   "execution_count": 5,
   "metadata": {},
   "outputs": [
    {
     "data": {
      "text/html": [
       "<div>\n",
       "<style scoped>\n",
       "    .dataframe tbody tr th:only-of-type {\n",
       "        vertical-align: middle;\n",
       "    }\n",
       "\n",
       "    .dataframe tbody tr th {\n",
       "        vertical-align: top;\n",
       "    }\n",
       "\n",
       "    .dataframe thead th {\n",
       "        text-align: right;\n",
       "    }\n",
       "</style>\n",
       "<table border=\"1\" class=\"dataframe\">\n",
       "  <thead>\n",
       "    <tr style=\"text-align: right;\">\n",
       "      <th></th>\n",
       "      <th>country</th>\n",
       "      <th>points</th>\n",
       "      <th>price</th>\n",
       "      <th>province</th>\n",
       "      <th>variety</th>\n",
       "      <th>winery</th>\n",
       "    </tr>\n",
       "  </thead>\n",
       "  <tbody>\n",
       "    <tr>\n",
       "      <th>0</th>\n",
       "      <td>Italy</td>\n",
       "      <td>87</td>\n",
       "      <td>NaN</td>\n",
       "      <td>Sicily &amp; Sardinia</td>\n",
       "      <td>White Blend</td>\n",
       "      <td>Nicosia</td>\n",
       "    </tr>\n",
       "    <tr>\n",
       "      <th>1</th>\n",
       "      <td>Portugal</td>\n",
       "      <td>87</td>\n",
       "      <td>15.0</td>\n",
       "      <td>Douro</td>\n",
       "      <td>Portuguese Red</td>\n",
       "      <td>Quinta dos Avidagos</td>\n",
       "    </tr>\n",
       "    <tr>\n",
       "      <th>2</th>\n",
       "      <td>US</td>\n",
       "      <td>87</td>\n",
       "      <td>14.0</td>\n",
       "      <td>Oregon</td>\n",
       "      <td>Pinot Gris</td>\n",
       "      <td>Rainstorm</td>\n",
       "    </tr>\n",
       "    <tr>\n",
       "      <th>3</th>\n",
       "      <td>US</td>\n",
       "      <td>87</td>\n",
       "      <td>13.0</td>\n",
       "      <td>Michigan</td>\n",
       "      <td>Riesling</td>\n",
       "      <td>St. Julian</td>\n",
       "    </tr>\n",
       "    <tr>\n",
       "      <th>4</th>\n",
       "      <td>US</td>\n",
       "      <td>87</td>\n",
       "      <td>65.0</td>\n",
       "      <td>Oregon</td>\n",
       "      <td>Pinot Noir</td>\n",
       "      <td>Sweet Cheeks</td>\n",
       "    </tr>\n",
       "  </tbody>\n",
       "</table>\n",
       "</div>"
      ],
      "text/plain": [
       "    country  points  price           province         variety  \\\n",
       "0     Italy      87    NaN  Sicily & Sardinia     White Blend   \n",
       "1  Portugal      87   15.0              Douro  Portuguese Red   \n",
       "2        US      87   14.0             Oregon      Pinot Gris   \n",
       "3        US      87   13.0           Michigan        Riesling   \n",
       "4        US      87   65.0             Oregon      Pinot Noir   \n",
       "\n",
       "                winery  \n",
       "0              Nicosia  \n",
       "1  Quinta dos Avidagos  \n",
       "2            Rainstorm  \n",
       "3           St. Julian  \n",
       "4         Sweet Cheeks  "
      ]
     },
     "execution_count": 5,
     "metadata": {},
     "output_type": "execute_result"
    }
   ],
   "source": [
    "data.head()"
   ]
  },
  {
   "cell_type": "code",
   "execution_count": 6,
   "metadata": {},
   "outputs": [
    {
     "data": {
      "text/html": [
       "<div>\n",
       "<style scoped>\n",
       "    .dataframe tbody tr th:only-of-type {\n",
       "        vertical-align: middle;\n",
       "    }\n",
       "\n",
       "    .dataframe tbody tr th {\n",
       "        vertical-align: top;\n",
       "    }\n",
       "\n",
       "    .dataframe thead th {\n",
       "        text-align: right;\n",
       "    }\n",
       "</style>\n",
       "<table border=\"1\" class=\"dataframe\">\n",
       "  <thead>\n",
       "    <tr style=\"text-align: right;\">\n",
       "      <th></th>\n",
       "      <th>points</th>\n",
       "      <th>price</th>\n",
       "    </tr>\n",
       "  </thead>\n",
       "  <tbody>\n",
       "    <tr>\n",
       "      <th>count</th>\n",
       "      <td>129971.000000</td>\n",
       "      <td>120975.000000</td>\n",
       "    </tr>\n",
       "    <tr>\n",
       "      <th>mean</th>\n",
       "      <td>88.447138</td>\n",
       "      <td>35.363389</td>\n",
       "    </tr>\n",
       "    <tr>\n",
       "      <th>std</th>\n",
       "      <td>3.039730</td>\n",
       "      <td>41.022218</td>\n",
       "    </tr>\n",
       "    <tr>\n",
       "      <th>min</th>\n",
       "      <td>80.000000</td>\n",
       "      <td>4.000000</td>\n",
       "    </tr>\n",
       "    <tr>\n",
       "      <th>25%</th>\n",
       "      <td>86.000000</td>\n",
       "      <td>17.000000</td>\n",
       "    </tr>\n",
       "    <tr>\n",
       "      <th>50%</th>\n",
       "      <td>88.000000</td>\n",
       "      <td>25.000000</td>\n",
       "    </tr>\n",
       "    <tr>\n",
       "      <th>75%</th>\n",
       "      <td>91.000000</td>\n",
       "      <td>42.000000</td>\n",
       "    </tr>\n",
       "    <tr>\n",
       "      <th>max</th>\n",
       "      <td>100.000000</td>\n",
       "      <td>3300.000000</td>\n",
       "    </tr>\n",
       "  </tbody>\n",
       "</table>\n",
       "</div>"
      ],
      "text/plain": [
       "              points          price\n",
       "count  129971.000000  120975.000000\n",
       "mean       88.447138      35.363389\n",
       "std         3.039730      41.022218\n",
       "min        80.000000       4.000000\n",
       "25%        86.000000      17.000000\n",
       "50%        88.000000      25.000000\n",
       "75%        91.000000      42.000000\n",
       "max       100.000000    3300.000000"
      ]
     },
     "execution_count": 6,
     "metadata": {},
     "output_type": "execute_result"
    }
   ],
   "source": [
    "data.describe()"
   ]
  },
  {
   "cell_type": "code",
   "execution_count": 7,
   "metadata": {
    "scrolled": false
   },
   "outputs": [
    {
     "data": {
      "text/plain": [
       "(129971, 6)"
      ]
     },
     "execution_count": 7,
     "metadata": {},
     "output_type": "execute_result"
    }
   ],
   "source": [
    "data.shape"
   ]
  },
  {
   "cell_type": "code",
   "execution_count": 8,
   "metadata": {
    "scrolled": true
   },
   "outputs": [
    {
     "name": "stdout",
     "output_type": "stream",
     "text": [
      "<class 'pandas.core.frame.DataFrame'>\n",
      "Int64Index: 129971 entries, 0 to 129970\n",
      "Data columns (total 6 columns):\n",
      "country     129908 non-null object\n",
      "points      129971 non-null int64\n",
      "price       120975 non-null float64\n",
      "province    129908 non-null object\n",
      "variety     129970 non-null object\n",
      "winery      129971 non-null object\n",
      "dtypes: float64(1), int64(1), object(4)\n",
      "memory usage: 6.9+ MB\n"
     ]
    }
   ],
   "source": [
    "# Checking for nulls\n",
    "data.info()"
   ]
  },
  {
   "cell_type": "code",
   "execution_count": 9,
   "metadata": {
    "scrolled": true
   },
   "outputs": [
    {
     "data": {
      "text/plain": [
       "708"
      ]
     },
     "execution_count": 9,
     "metadata": {},
     "output_type": "execute_result"
    }
   ],
   "source": [
    "len(set(data[\"variety\"]))"
   ]
  },
  {
   "cell_type": "code",
   "execution_count": 10,
   "metadata": {},
   "outputs": [
    {
     "data": {
      "text/plain": [
       "105154"
      ]
     },
     "execution_count": 10,
     "metadata": {},
     "output_type": "execute_result"
    }
   ],
   "source": [
    "# Since the top 30 varieties account for more than 80% of our data,\n",
    "# let's only use observations where the variety is one of those,\n",
    "# to make it easier to create our target variable, red/white\n",
    "top_30_variety_counts = data[\"variety\"].value_counts()[:30]\n",
    "top_30_variety_counts.sum()"
   ]
  },
  {
   "cell_type": "code",
   "execution_count": 11,
   "metadata": {},
   "outputs": [
    {
     "name": "stdout",
     "output_type": "stream",
     "text": [
      "['Pinot Noir', 'Chardonnay', 'Cabernet Sauvignon', 'Red Blend', 'Bordeaux-style Red Blend', 'Riesling', 'Sauvignon Blanc', 'Syrah', 'Rosé', 'Merlot', 'Nebbiolo', 'Zinfandel', 'Sangiovese', 'Malbec', 'Portuguese Red', 'White Blend', 'Sparkling Blend', 'Tempranillo', 'Rhône-style Red Blend', 'Pinot Gris', 'Champagne Blend', 'Cabernet Franc', 'Grüner Veltliner', 'Portuguese White', 'Bordeaux-style White Blend', 'Pinot Grigio', 'Gamay', 'Gewürztraminer', 'Viognier', 'Shiraz']\n"
     ]
    }
   ],
   "source": [
    "top_30_varieties = list(top_30_variety_counts.index)\n",
    "print(top_30_varieties)"
   ]
  },
  {
   "cell_type": "code",
   "execution_count": 12,
   "metadata": {},
   "outputs": [],
   "source": [
    "# Now, let's make our data just those where the variety is one of the top 30\n",
    "data = data[data[\"variety\"].isin(top_30_varieties)]"
   ]
  },
  {
   "cell_type": "code",
   "execution_count": 13,
   "metadata": {},
   "outputs": [
    {
     "data": {
      "text/html": [
       "<div>\n",
       "<style scoped>\n",
       "    .dataframe tbody tr th:only-of-type {\n",
       "        vertical-align: middle;\n",
       "    }\n",
       "\n",
       "    .dataframe tbody tr th {\n",
       "        vertical-align: top;\n",
       "    }\n",
       "\n",
       "    .dataframe thead th {\n",
       "        text-align: right;\n",
       "    }\n",
       "</style>\n",
       "<table border=\"1\" class=\"dataframe\">\n",
       "  <thead>\n",
       "    <tr style=\"text-align: right;\">\n",
       "      <th></th>\n",
       "      <th>country</th>\n",
       "      <th>points</th>\n",
       "      <th>price</th>\n",
       "      <th>province</th>\n",
       "      <th>variety</th>\n",
       "      <th>winery</th>\n",
       "    </tr>\n",
       "  </thead>\n",
       "  <tbody>\n",
       "    <tr>\n",
       "      <th>0</th>\n",
       "      <td>Italy</td>\n",
       "      <td>87</td>\n",
       "      <td>NaN</td>\n",
       "      <td>Sicily &amp; Sardinia</td>\n",
       "      <td>White Blend</td>\n",
       "      <td>Nicosia</td>\n",
       "    </tr>\n",
       "    <tr>\n",
       "      <th>1</th>\n",
       "      <td>Portugal</td>\n",
       "      <td>87</td>\n",
       "      <td>15.0</td>\n",
       "      <td>Douro</td>\n",
       "      <td>Portuguese Red</td>\n",
       "      <td>Quinta dos Avidagos</td>\n",
       "    </tr>\n",
       "    <tr>\n",
       "      <th>2</th>\n",
       "      <td>US</td>\n",
       "      <td>87</td>\n",
       "      <td>14.0</td>\n",
       "      <td>Oregon</td>\n",
       "      <td>Pinot Gris</td>\n",
       "      <td>Rainstorm</td>\n",
       "    </tr>\n",
       "    <tr>\n",
       "      <th>3</th>\n",
       "      <td>US</td>\n",
       "      <td>87</td>\n",
       "      <td>13.0</td>\n",
       "      <td>Michigan</td>\n",
       "      <td>Riesling</td>\n",
       "      <td>St. Julian</td>\n",
       "    </tr>\n",
       "    <tr>\n",
       "      <th>4</th>\n",
       "      <td>US</td>\n",
       "      <td>87</td>\n",
       "      <td>65.0</td>\n",
       "      <td>Oregon</td>\n",
       "      <td>Pinot Noir</td>\n",
       "      <td>Sweet Cheeks</td>\n",
       "    </tr>\n",
       "  </tbody>\n",
       "</table>\n",
       "</div>"
      ],
      "text/plain": [
       "    country  points  price           province         variety  \\\n",
       "0     Italy      87    NaN  Sicily & Sardinia     White Blend   \n",
       "1  Portugal      87   15.0              Douro  Portuguese Red   \n",
       "2        US      87   14.0             Oregon      Pinot Gris   \n",
       "3        US      87   13.0           Michigan        Riesling   \n",
       "4        US      87   65.0             Oregon      Pinot Noir   \n",
       "\n",
       "                winery  \n",
       "0              Nicosia  \n",
       "1  Quinta dos Avidagos  \n",
       "2            Rainstorm  \n",
       "3           St. Julian  \n",
       "4         Sweet Cheeks  "
      ]
     },
     "execution_count": 13,
     "metadata": {},
     "output_type": "execute_result"
    }
   ],
   "source": [
    "data.head()"
   ]
  },
  {
   "cell_type": "code",
   "execution_count": 14,
   "metadata": {},
   "outputs": [],
   "source": [
    "# I made the color dictionary by hand for this, to make it easier to see\n",
    "# which wines are in which category here\n",
    "# For the curious, I'm considering a Rose a white for simplicity\n",
    "color = {\"red\": [\"Pinot Noir\", \"Cabernet Sauvignon\", \"Red Blend\",\n",
    "                 \"Bordeaux-style Red Blend\", \"Syrah\", \"Merlot\", \"Nebbiolo\",\n",
    "                 \"Zinfandel\", \"Sangiovese\", \"Malbec\", \"Portuguese Red\",\n",
    "                 \"Tempranillo\", \"Rhône-style Red Blend\", \"Cabernet Franc\",\n",
    "                 \"Gamay\", \"Shiraz\"],\n",
    "         \"white\": [\"Chardonnay\", \"Riesling\", \"Sauvignon Blanc\", \"Rosé\",\n",
    "                   \"White Blend\", \"Sparkling Blend\", \"Pinot Gris\",\n",
    "                   \"Champagne Blend\", \"Grüner Veltliner\", \"Portuguese White\",\n",
    "                   \"Bordeaux-style White Blend\", \"Pinot Grigio\",\n",
    "                   \"Gewürztraminer\", \"Viognier\"]}"
   ]
  },
  {
   "cell_type": "code",
   "execution_count": 15,
   "metadata": {},
   "outputs": [
    {
     "name": "stdout",
     "output_type": "stream",
     "text": [
      "['Pinot Noir', 'Cabernet Sauvignon', 'Red Blend', 'Bordeaux-style Red Blend', 'Syrah', 'Merlot', 'Nebbiolo', 'Zinfandel', 'Sangiovese', 'Malbec', 'Portuguese Red', 'Tempranillo', 'Rhône-style Red Blend', 'Cabernet Franc', 'Gamay', 'Shiraz']\n",
      "['Chardonnay', 'Riesling', 'Sauvignon Blanc', 'Rosé', 'White Blend', 'Sparkling Blend', 'Pinot Gris', 'Champagne Blend', 'Grüner Veltliner', 'Portuguese White', 'Bordeaux-style White Blend', 'Pinot Grigio', 'Gewürztraminer', 'Viognier']\n"
     ]
    }
   ],
   "source": [
    "print(color[\"red\"])\n",
    "print(color[\"white\"])"
   ]
  },
  {
   "cell_type": "code",
   "execution_count": 16,
   "metadata": {},
   "outputs": [],
   "source": [
    "# Creating our new target column, color\n",
    "def find_color(variety):\n",
    "    if variety in color[\"red\"]:\n",
    "        var_color = \"red\"\n",
    "    elif variety in color[\"white\"]:\n",
    "        var_color = \"white\"\n",
    "    else:\n",
    "        var_color = \"whoops\"\n",
    "    return var_color\n",
    "data[\"color\"] = df[\"variety\"].map(lambda x: find_color(x))"
   ]
  },
  {
   "cell_type": "code",
   "execution_count": 17,
   "metadata": {},
   "outputs": [],
   "source": [
    "# Dropping our variety column, since we no longer need it\n",
    "data = data.drop(columns=\"variety\")"
   ]
  },
  {
   "cell_type": "code",
   "execution_count": 18,
   "metadata": {},
   "outputs": [
    {
     "data": {
      "text/html": [
       "<div>\n",
       "<style scoped>\n",
       "    .dataframe tbody tr th:only-of-type {\n",
       "        vertical-align: middle;\n",
       "    }\n",
       "\n",
       "    .dataframe tbody tr th {\n",
       "        vertical-align: top;\n",
       "    }\n",
       "\n",
       "    .dataframe thead th {\n",
       "        text-align: right;\n",
       "    }\n",
       "</style>\n",
       "<table border=\"1\" class=\"dataframe\">\n",
       "  <thead>\n",
       "    <tr style=\"text-align: right;\">\n",
       "      <th></th>\n",
       "      <th>country</th>\n",
       "      <th>points</th>\n",
       "      <th>price</th>\n",
       "      <th>province</th>\n",
       "      <th>winery</th>\n",
       "      <th>color</th>\n",
       "    </tr>\n",
       "  </thead>\n",
       "  <tbody>\n",
       "    <tr>\n",
       "      <th>0</th>\n",
       "      <td>Italy</td>\n",
       "      <td>87</td>\n",
       "      <td>NaN</td>\n",
       "      <td>Sicily &amp; Sardinia</td>\n",
       "      <td>Nicosia</td>\n",
       "      <td>white</td>\n",
       "    </tr>\n",
       "    <tr>\n",
       "      <th>1</th>\n",
       "      <td>Portugal</td>\n",
       "      <td>87</td>\n",
       "      <td>15.0</td>\n",
       "      <td>Douro</td>\n",
       "      <td>Quinta dos Avidagos</td>\n",
       "      <td>red</td>\n",
       "    </tr>\n",
       "    <tr>\n",
       "      <th>2</th>\n",
       "      <td>US</td>\n",
       "      <td>87</td>\n",
       "      <td>14.0</td>\n",
       "      <td>Oregon</td>\n",
       "      <td>Rainstorm</td>\n",
       "      <td>white</td>\n",
       "    </tr>\n",
       "    <tr>\n",
       "      <th>3</th>\n",
       "      <td>US</td>\n",
       "      <td>87</td>\n",
       "      <td>13.0</td>\n",
       "      <td>Michigan</td>\n",
       "      <td>St. Julian</td>\n",
       "      <td>white</td>\n",
       "    </tr>\n",
       "    <tr>\n",
       "      <th>4</th>\n",
       "      <td>US</td>\n",
       "      <td>87</td>\n",
       "      <td>65.0</td>\n",
       "      <td>Oregon</td>\n",
       "      <td>Sweet Cheeks</td>\n",
       "      <td>red</td>\n",
       "    </tr>\n",
       "  </tbody>\n",
       "</table>\n",
       "</div>"
      ],
      "text/plain": [
       "    country  points  price           province               winery  color\n",
       "0     Italy      87    NaN  Sicily & Sardinia              Nicosia  white\n",
       "1  Portugal      87   15.0              Douro  Quinta dos Avidagos    red\n",
       "2        US      87   14.0             Oregon            Rainstorm  white\n",
       "3        US      87   13.0           Michigan           St. Julian  white\n",
       "4        US      87   65.0             Oregon         Sweet Cheeks    red"
      ]
     },
     "execution_count": 18,
     "metadata": {},
     "output_type": "execute_result"
    }
   ],
   "source": [
    "data.head()"
   ]
  },
  {
   "cell_type": "code",
   "execution_count": 19,
   "metadata": {
    "scrolled": false
   },
   "outputs": [
    {
     "data": {
      "text/plain": [
       "red      65687\n",
       "white    39467\n",
       "Name: color, dtype: int64"
      ]
     },
     "execution_count": 19,
     "metadata": {},
     "output_type": "execute_result"
    }
   ],
   "source": [
    "# Our classes are unbalanced, something we should keep in mind later\n",
    "data[\"color\"].value_counts()"
   ]
  },
  {
   "cell_type": "code",
   "execution_count": 20,
   "metadata": {
    "scrolled": true
   },
   "outputs": [
    {
     "name": "stdout",
     "output_type": "stream",
     "text": [
      "<class 'pandas.core.frame.DataFrame'>\n",
      "Int64Index: 105154 entries, 0 to 129970\n",
      "Data columns (total 6 columns):\n",
      "country     105114 non-null object\n",
      "points      105154 non-null int64\n",
      "price       98166 non-null float64\n",
      "province    105114 non-null object\n",
      "winery      105154 non-null object\n",
      "color       105154 non-null object\n",
      "dtypes: float64(1), int64(1), object(4)\n",
      "memory usage: 5.6+ MB\n"
     ]
    }
   ],
   "source": [
    "# Now let's look at our NaNs and datatypes\n",
    "data.info()"
   ]
  },
  {
   "cell_type": "code",
   "execution_count": 21,
   "metadata": {},
   "outputs": [
    {
     "data": {
      "text/plain": [
       "40"
      ]
     },
     "execution_count": 21,
     "metadata": {},
     "output_type": "execute_result"
    }
   ],
   "source": [
    "# First things first, let's deal with our nulls\n",
    "# Only 40 entries, out of over 100,000, are missing country/province data\n",
    "# So I will drop those, rather than guessing or looking up the winery by hand\n",
    "\n",
    "data[\"country\"].isna().sum()"
   ]
  },
  {
   "cell_type": "code",
   "execution_count": 22,
   "metadata": {},
   "outputs": [],
   "source": [
    "data.dropna(subset=[\"country\",\"province\"], inplace=True)"
   ]
  },
  {
   "cell_type": "code",
   "execution_count": 23,
   "metadata": {
    "scrolled": true
   },
   "outputs": [
    {
     "name": "stdout",
     "output_type": "stream",
     "text": [
      "<class 'pandas.core.frame.DataFrame'>\n",
      "Int64Index: 105114 entries, 0 to 129970\n",
      "Data columns (total 6 columns):\n",
      "country     105114 non-null object\n",
      "points      105114 non-null int64\n",
      "price       98130 non-null float64\n",
      "province    105114 non-null object\n",
      "winery      105114 non-null object\n",
      "color       105114 non-null object\n",
      "dtypes: float64(1), int64(1), object(4)\n",
      "memory usage: 5.6+ MB\n"
     ]
    }
   ],
   "source": [
    "data.info()"
   ]
  },
  {
   "cell_type": "code",
   "execution_count": 24,
   "metadata": {},
   "outputs": [],
   "source": [
    "# We still have a lot of nulls in our price column.\n",
    "# Rather than removing all of those values, I'll create a new column to track\n",
    "# which observations were missing price data, then fill the nulls\n",
    "\n",
    "data['price_missing'] = np.where(np.isnan(data['price']) == True, 1, 0)"
   ]
  },
  {
   "cell_type": "code",
   "execution_count": 25,
   "metadata": {
    "scrolled": true
   },
   "outputs": [
    {
     "name": "stdout",
     "output_type": "stream",
     "text": [
      "27.0\n",
      "36.71797615408132\n"
     ]
    }
   ],
   "source": [
    "# Checking what seems more reasonable, median or mean - median wins\n",
    "# Mean is more affected by the outliers in our data, which there are several\n",
    "print(data[\"price\"].median())\n",
    "print(data[\"price\"].mean())"
   ]
  },
  {
   "cell_type": "code",
   "execution_count": 26,
   "metadata": {},
   "outputs": [],
   "source": [
    "# Replacing nulls with median price\n",
    "clean_data = data.copy()\n",
    "clean_data[\"price\"].fillna(clean_data[\"price\"].median(), inplace=True)"
   ]
  },
  {
   "cell_type": "code",
   "execution_count": 27,
   "metadata": {
    "scrolled": true
   },
   "outputs": [
    {
     "data": {
      "text/html": [
       "<div>\n",
       "<style scoped>\n",
       "    .dataframe tbody tr th:only-of-type {\n",
       "        vertical-align: middle;\n",
       "    }\n",
       "\n",
       "    .dataframe tbody tr th {\n",
       "        vertical-align: top;\n",
       "    }\n",
       "\n",
       "    .dataframe thead th {\n",
       "        text-align: right;\n",
       "    }\n",
       "</style>\n",
       "<table border=\"1\" class=\"dataframe\">\n",
       "  <thead>\n",
       "    <tr style=\"text-align: right;\">\n",
       "      <th></th>\n",
       "      <th>country</th>\n",
       "      <th>points</th>\n",
       "      <th>price</th>\n",
       "      <th>province</th>\n",
       "      <th>winery</th>\n",
       "      <th>color</th>\n",
       "      <th>price_missing</th>\n",
       "    </tr>\n",
       "  </thead>\n",
       "  <tbody>\n",
       "    <tr>\n",
       "      <th>0</th>\n",
       "      <td>Italy</td>\n",
       "      <td>87</td>\n",
       "      <td>27.0</td>\n",
       "      <td>Sicily &amp; Sardinia</td>\n",
       "      <td>Nicosia</td>\n",
       "      <td>white</td>\n",
       "      <td>1</td>\n",
       "    </tr>\n",
       "    <tr>\n",
       "      <th>1</th>\n",
       "      <td>Portugal</td>\n",
       "      <td>87</td>\n",
       "      <td>15.0</td>\n",
       "      <td>Douro</td>\n",
       "      <td>Quinta dos Avidagos</td>\n",
       "      <td>red</td>\n",
       "      <td>0</td>\n",
       "    </tr>\n",
       "    <tr>\n",
       "      <th>2</th>\n",
       "      <td>US</td>\n",
       "      <td>87</td>\n",
       "      <td>14.0</td>\n",
       "      <td>Oregon</td>\n",
       "      <td>Rainstorm</td>\n",
       "      <td>white</td>\n",
       "      <td>0</td>\n",
       "    </tr>\n",
       "    <tr>\n",
       "      <th>3</th>\n",
       "      <td>US</td>\n",
       "      <td>87</td>\n",
       "      <td>13.0</td>\n",
       "      <td>Michigan</td>\n",
       "      <td>St. Julian</td>\n",
       "      <td>white</td>\n",
       "      <td>0</td>\n",
       "    </tr>\n",
       "    <tr>\n",
       "      <th>4</th>\n",
       "      <td>US</td>\n",
       "      <td>87</td>\n",
       "      <td>65.0</td>\n",
       "      <td>Oregon</td>\n",
       "      <td>Sweet Cheeks</td>\n",
       "      <td>red</td>\n",
       "      <td>0</td>\n",
       "    </tr>\n",
       "  </tbody>\n",
       "</table>\n",
       "</div>"
      ],
      "text/plain": [
       "    country  points  price           province               winery  color  \\\n",
       "0     Italy      87   27.0  Sicily & Sardinia              Nicosia  white   \n",
       "1  Portugal      87   15.0              Douro  Quinta dos Avidagos    red   \n",
       "2        US      87   14.0             Oregon            Rainstorm  white   \n",
       "3        US      87   13.0           Michigan           St. Julian  white   \n",
       "4        US      87   65.0             Oregon         Sweet Cheeks    red   \n",
       "\n",
       "   price_missing  \n",
       "0              1  \n",
       "1              0  \n",
       "2              0  \n",
       "3              0  \n",
       "4              0  "
      ]
     },
     "execution_count": 27,
     "metadata": {},
     "output_type": "execute_result"
    }
   ],
   "source": [
    "clean_data.head()"
   ]
  },
  {
   "cell_type": "code",
   "execution_count": 28,
   "metadata": {
    "scrolled": true
   },
   "outputs": [
    {
     "name": "stdout",
     "output_type": "stream",
     "text": [
      "<class 'pandas.core.frame.DataFrame'>\n",
      "Int64Index: 105114 entries, 0 to 129970\n",
      "Data columns (total 7 columns):\n",
      "country          105114 non-null object\n",
      "points           105114 non-null int64\n",
      "price            105114 non-null float64\n",
      "province         105114 non-null object\n",
      "winery           105114 non-null object\n",
      "color            105114 non-null object\n",
      "price_missing    105114 non-null int64\n",
      "dtypes: float64(1), int64(2), object(4)\n",
      "memory usage: 6.4+ MB\n"
     ]
    }
   ],
   "source": [
    "# Yay, no more nulls!\n",
    "clean_data.info()"
   ]
  },
  {
   "cell_type": "code",
   "execution_count": 29,
   "metadata": {},
   "outputs": [
    {
     "data": {
      "text/plain": [
       "101085"
      ]
     },
     "execution_count": 29,
     "metadata": {},
     "output_type": "execute_result"
    }
   ],
   "source": [
    "# Our top 10 countries account for more than 95% of our cleaned up, no-null\n",
    "# data, so let's start with those to build our model\n",
    "top_10_countries = clean_data[\"country\"].value_counts()[:10]\n",
    "top_10_countries.sum()"
   ]
  },
  {
   "cell_type": "code",
   "execution_count": 30,
   "metadata": {},
   "outputs": [],
   "source": [
    "top_10_countries = list(top_10_countries.index)\n",
    "# Now, let's make our data just those where the variety is one of the top 30\n",
    "clean_data = clean_data[clean_data[\"country\"].isin(top_10_countries)]"
   ]
  },
  {
   "cell_type": "markdown",
   "metadata": {},
   "source": [
    "## Initial, Baseline Classification Model - Logistic Regression\n",
    "\n",
    "Let's build an initial, baseline model and see if it can predict whether a wine is white or red!"
   ]
  },
  {
   "cell_type": "code",
   "execution_count": 31,
   "metadata": {},
   "outputs": [],
   "source": [
    "# Let's go ahead and remove our target variable\n",
    "init_data = clean_data.copy()\n",
    "target = init_data[\"color\"]\n",
    "init_data = init_data.drop(columns=\"color\")"
   ]
  },
  {
   "cell_type": "code",
   "execution_count": 32,
   "metadata": {},
   "outputs": [],
   "source": [
    "# While we can use more than one variable, our logistic regression model is\n",
    "# not going to like our categorical variables, so let's just put in our \n",
    "# continuous variables, points and price\n",
    "X = init_data[[\"points\", \"price\"]]"
   ]
  },
  {
   "cell_type": "code",
   "execution_count": 33,
   "metadata": {},
   "outputs": [],
   "source": [
    "# Create a train-test split, so we reserve some data for testing\n",
    "from sklearn.model_selection import train_test_split\n",
    "\n",
    "X_init_train, X_init_test, y_init_train, y_init_test = train_test_split(\n",
    "    X, target, test_size=.25, random_state=543)"
   ]
  },
  {
   "cell_type": "code",
   "execution_count": 34,
   "metadata": {
    "scrolled": false
   },
   "outputs": [],
   "source": [
    "# Since our problem is binary, let's start with logistic regression \n",
    "from sklearn.linear_model import LogisticRegression\n",
    "\n",
    "# Starting with just out-of-the box setting, meaning I'm not playing around\n",
    "# with class weight just yet even though I know they're unbalanced\n",
    "logreg = LogisticRegression(solver=\"lbfgs\", random_state=543)\n",
    "\n",
    "logreg.fit(X_init_train, y_init_train)\n",
    "log_preds = logreg.predict(X_init_test)"
   ]
  },
  {
   "cell_type": "code",
   "execution_count": 35,
   "metadata": {
    "scrolled": true
   },
   "outputs": [],
   "source": [
    "# Really quick, let's define some functions so we can check how each of our\n",
    "# classification modesl are doing\n",
    "\n",
    "# Extra imports, for metrics\n",
    "from sklearn.metrics import confusion_matrix\n",
    "from sklearn.metrics import classification_report\n",
    "# unique_label allows the confusion matrix to automatically label itself\n",
    "from sklearn.utils.multiclass import unique_labels\n",
    "\n",
    "# Visualizing a confusion matrix\n",
    "def vis_cm(y_true, y_pred):\n",
    "    # Takes true values first, then predicted values\n",
    "    c_mat = confusion_matrix(y_true, y_pred)\n",
    "\n",
    "    fig, ax = plt.subplots()\n",
    "    # Visualizes the matrix\n",
    "    sns.heatmap(c_mat, annot=True, cmap=plt.cm.Blues, fmt='g')\n",
    "\n",
    "    # Adds title and axis labels\n",
    "    plt.title('Confusion Matrix')\n",
    "    plt.ylabel('True Label')\n",
    "    plt.xlabel('Predicted Label')\n",
    "\n",
    "    # Adds appropriate axis scales\n",
    "    class_names = unique_labels(y_true, y_pred)\n",
    "    tick_marks = np.arange(len(class_names))\n",
    "    # The +.5 here just centers the labels, red or white, since it's 2x2\n",
    "    plt.xticks(tick_marks + .5, class_names)\n",
    "    plt.yticks(tick_marks + .5, class_names)\n",
    "\n",
    "    plt.show()\n",
    "\n",
    "def print_scores(model, X_train, X_test, y_train, y_test, y_pred):\n",
    "    print(\"Training Accuracy: {}\".format(model.score(X_train, y_train)))\n",
    "    print(\"Testing Accuracy: {}\".format(model.score(X_test, y_test)))\n",
    "    print(classification_report(y_test, y_pred))"
   ]
  },
  {
   "cell_type": "code",
   "execution_count": 36,
   "metadata": {},
   "outputs": [
    {
     "name": "stdout",
     "output_type": "stream",
     "text": [
      "Training Accuracy: 0.6314484323269096\n",
      "Testing Accuracy: 0.62278410889522\n"
     ]
    },
    {
     "name": "stderr",
     "output_type": "stream",
     "text": [
      "/anaconda3/lib/python3.7/site-packages/sklearn/metrics/classification.py:1143: UndefinedMetricWarning: Precision and F-score are ill-defined and being set to 0.0 in labels with no predicted samples.\n",
      "  'precision', 'predicted', average, warn_for)\n",
      "/anaconda3/lib/python3.7/site-packages/sklearn/metrics/classification.py:1143: UndefinedMetricWarning: Precision and F-score are ill-defined and being set to 0.0 in labels with no predicted samples.\n",
      "  'precision', 'predicted', average, warn_for)\n",
      "/anaconda3/lib/python3.7/site-packages/sklearn/metrics/classification.py:1143: UndefinedMetricWarning: Precision and F-score are ill-defined and being set to 0.0 in labels with no predicted samples.\n",
      "  'precision', 'predicted', average, warn_for)\n"
     ]
    },
    {
     "name": "stdout",
     "output_type": "stream",
     "text": [
      "              precision    recall  f1-score   support\n",
      "\n",
      "         red       0.62      1.00      0.77     15739\n",
      "       white       0.00      0.00      0.00      9533\n",
      "\n",
      "   micro avg       0.62      0.62      0.62     25272\n",
      "   macro avg       0.31      0.50      0.38     25272\n",
      "weighted avg       0.39      0.62      0.48     25272\n",
      "\n"
     ]
    },
    {
     "data": {
      "image/png": "[encoded data removed]",
      "text/plain": [
       "<Figure size 432x288 with 2 Axes>"
      ]
     },
     "metadata": {
      "needs_background": "light"
     },
     "output_type": "display_data"
    }
   ],
   "source": [
    "print_scores(logreg, X_init_train, X_init_test,\n",
    "             y_init_train, y_init_test, log_preds)\n",
    "vis_cm(y_init_test, log_preds)"
   ]
  },
  {
   "cell_type": "markdown",
   "metadata": {},
   "source": [
    "WOW what a terrible model, it just predicted everything was red for both our training and testing data it seems. Whelp. Perhaps it's because our classes are so unbalanced, let's fix that."
   ]
  },
  {
   "cell_type": "code",
   "execution_count": 37,
   "metadata": {
    "scrolled": false
   },
   "outputs": [],
   "source": [
    "# Balancing our classes within the Logistic Regression\n",
    "logreg_balanced = LogisticRegression(class_weight=\"balanced\", \n",
    "                                     solver=\"lbfgs\", \n",
    "                                     random_state=543)\n",
    "\n",
    "logreg_balanced.fit(X_init_train, y_init_train)\n",
    "log_balanced_preds = logreg_balanced.predict(X_init_test)"
   ]
  },
  {
   "cell_type": "code",
   "execution_count": 38,
   "metadata": {
    "scrolled": false
   },
   "outputs": [
    {
     "name": "stdout",
     "output_type": "stream",
     "text": [
      "Training Accuracy: 0.5731602759421207\n",
      "Testing Accuracy: 0.5809195948084837\n",
      "              precision    recall  f1-score   support\n",
      "\n",
      "         red       0.78      0.46      0.58     15739\n",
      "       white       0.47      0.78      0.58      9533\n",
      "\n",
      "   micro avg       0.58      0.58      0.58     25272\n",
      "   macro avg       0.62      0.62      0.58     25272\n",
      "weighted avg       0.66      0.58      0.58     25272\n",
      "\n"
     ]
    },
    {
     "data": {
      "image/png": "[encoded data removed]",
      "text/plain": [
       "<Figure size 432x288 with 2 Axes>"
      ]
     },
     "metadata": {
      "needs_background": "light"
     },
     "output_type": "display_data"
    }
   ],
   "source": [
    "print_scores(logreg_balanced, X_init_train, X_init_test, y_init_train,\n",
    "             y_init_test, log_balanced_preds)\n",
    "vis_cm(y_init_test, log_balanced_preds)"
   ]
  },
  {
   "cell_type": "markdown",
   "metadata": {},
   "source": [
    "So this model scored worse, but at least it wasn't only guessing red and actually tried to predict red or white. Looks like we have a lot more work to do to get to a place where a logistic regression model can use our data. So let's work on that, before moving on to any other kind of model."
   ]
  },
  {
   "cell_type": "markdown",
   "metadata": {},
   "source": [
    "## Further Data Cleaning"
   ]
  },
  {
   "cell_type": "code",
   "execution_count": 39,
   "metadata": {},
   "outputs": [
    {
     "data": {
      "text/html": [
       "<div>\n",
       "<style scoped>\n",
       "    .dataframe tbody tr th:only-of-type {\n",
       "        vertical-align: middle;\n",
       "    }\n",
       "\n",
       "    .dataframe tbody tr th {\n",
       "        vertical-align: top;\n",
       "    }\n",
       "\n",
       "    .dataframe thead th {\n",
       "        text-align: right;\n",
       "    }\n",
       "</style>\n",
       "<table border=\"1\" class=\"dataframe\">\n",
       "  <thead>\n",
       "    <tr style=\"text-align: right;\">\n",
       "      <th></th>\n",
       "      <th>country</th>\n",
       "      <th>points</th>\n",
       "      <th>price</th>\n",
       "      <th>province</th>\n",
       "      <th>winery</th>\n",
       "      <th>color</th>\n",
       "      <th>price_missing</th>\n",
       "    </tr>\n",
       "  </thead>\n",
       "  <tbody>\n",
       "    <tr>\n",
       "      <th>0</th>\n",
       "      <td>Italy</td>\n",
       "      <td>87</td>\n",
       "      <td>27.0</td>\n",
       "      <td>Sicily &amp; Sardinia</td>\n",
       "      <td>Nicosia</td>\n",
       "      <td>white</td>\n",
       "      <td>1</td>\n",
       "    </tr>\n",
       "    <tr>\n",
       "      <th>1</th>\n",
       "      <td>Portugal</td>\n",
       "      <td>87</td>\n",
       "      <td>15.0</td>\n",
       "      <td>Douro</td>\n",
       "      <td>Quinta dos Avidagos</td>\n",
       "      <td>red</td>\n",
       "      <td>0</td>\n",
       "    </tr>\n",
       "    <tr>\n",
       "      <th>2</th>\n",
       "      <td>US</td>\n",
       "      <td>87</td>\n",
       "      <td>14.0</td>\n",
       "      <td>Oregon</td>\n",
       "      <td>Rainstorm</td>\n",
       "      <td>white</td>\n",
       "      <td>0</td>\n",
       "    </tr>\n",
       "    <tr>\n",
       "      <th>3</th>\n",
       "      <td>US</td>\n",
       "      <td>87</td>\n",
       "      <td>13.0</td>\n",
       "      <td>Michigan</td>\n",
       "      <td>St. Julian</td>\n",
       "      <td>white</td>\n",
       "      <td>0</td>\n",
       "    </tr>\n",
       "    <tr>\n",
       "      <th>4</th>\n",
       "      <td>US</td>\n",
       "      <td>87</td>\n",
       "      <td>65.0</td>\n",
       "      <td>Oregon</td>\n",
       "      <td>Sweet Cheeks</td>\n",
       "      <td>red</td>\n",
       "      <td>0</td>\n",
       "    </tr>\n",
       "  </tbody>\n",
       "</table>\n",
       "</div>"
      ],
      "text/plain": [
       "    country  points  price           province               winery  color  \\\n",
       "0     Italy      87   27.0  Sicily & Sardinia              Nicosia  white   \n",
       "1  Portugal      87   15.0              Douro  Quinta dos Avidagos    red   \n",
       "2        US      87   14.0             Oregon            Rainstorm  white   \n",
       "3        US      87   13.0           Michigan           St. Julian  white   \n",
       "4        US      87   65.0             Oregon         Sweet Cheeks    red   \n",
       "\n",
       "   price_missing  \n",
       "0              1  \n",
       "1              0  \n",
       "2              0  \n",
       "3              0  \n",
       "4              0  "
      ]
     },
     "execution_count": 39,
     "metadata": {},
     "output_type": "execute_result"
    }
   ],
   "source": [
    "clean_data.head()"
   ]
  },
  {
   "cell_type": "code",
   "execution_count": 48,
   "metadata": {},
   "outputs": [],
   "source": [
    "# Let's go ahead and once again take out our target variable, color\n",
    "y = clean_data[\"color\"]\n",
    "clean_data.drop(columns=\"color\", inplace=True)"
   ]
  },
  {
   "cell_type": "code",
   "execution_count": 49,
   "metadata": {
    "scrolled": true
   },
   "outputs": [
    {
     "data": {
      "image/png": "[encoded data removed]",
      "text/plain": [
       "<Figure size 432x360 with 1 Axes>"
      ]
     },
     "metadata": {
      "needs_background": "light"
     },
     "output_type": "display_data"
    }
   ],
   "source": [
    "# Checking out the distribution of our 'points' variable - fairly normal\n",
    "plt.figure(figsize=(6,5))\n",
    "plt.hist(clean_data[\"points\"])\n",
    "plt.title(\"Distribution of Points\")\n",
    "plt.xlabel(\"Points (80-100)\")\n",
    "plt.ylabel(\"Frequency\")\n",
    "plt.show()"
   ]
  },
  {
   "cell_type": "code",
   "execution_count": 50,
   "metadata": {
    "scrolled": false
   },
   "outputs": [
    {
     "data": {
      "image/png": "[encoded data removed]",
      "text/plain": [
       "<Figure size 432x360 with 1 Axes>"
      ]
     },
     "metadata": {
      "needs_background": "light"
     },
     "output_type": "display_data"
    }
   ],
   "source": [
    "# Checking out the distribution of our 'price' variable - not normal at all!\n",
    "plt.figure(figsize=(6,5))\n",
    "plt.hist(clean_data[\"price\"])\n",
    "plt.title(\"Distribution of Wine Prices\")\n",
    "plt.xlabel(\"Wine Prices (in dollars)\")\n",
    "plt.ylabel(\"Frequency\")\n",
    "plt.show()"
   ]
  },
  {
   "cell_type": "code",
   "execution_count": 51,
   "metadata": {
    "scrolled": true
   },
   "outputs": [],
   "source": [
    "logged_data = clean_data.copy()\n",
    "logged_data[\"log_price\"] = np.log1p(logged_data[\"price\"])"
   ]
  },
  {
   "cell_type": "code",
   "execution_count": 52,
   "metadata": {},
   "outputs": [
    {
     "data": {
      "text/html": [
       "<div>\n",
       "<style scoped>\n",
       "    .dataframe tbody tr th:only-of-type {\n",
       "        vertical-align: middle;\n",
       "    }\n",
       "\n",
       "    .dataframe tbody tr th {\n",
       "        vertical-align: top;\n",
       "    }\n",
       "\n",
       "    .dataframe thead th {\n",
       "        text-align: right;\n",
       "    }\n",
       "</style>\n",
       "<table border=\"1\" class=\"dataframe\">\n",
       "  <thead>\n",
       "    <tr style=\"text-align: right;\">\n",
       "      <th></th>\n",
       "      <th>country</th>\n",
       "      <th>points</th>\n",
       "      <th>price</th>\n",
       "      <th>province</th>\n",
       "      <th>winery</th>\n",
       "      <th>price_missing</th>\n",
       "      <th>log_price</th>\n",
       "    </tr>\n",
       "  </thead>\n",
       "  <tbody>\n",
       "    <tr>\n",
       "      <th>0</th>\n",
       "      <td>Italy</td>\n",
       "      <td>87</td>\n",
       "      <td>27.0</td>\n",
       "      <td>Sicily &amp; Sardinia</td>\n",
       "      <td>Nicosia</td>\n",
       "      <td>1</td>\n",
       "      <td>3.332205</td>\n",
       "    </tr>\n",
       "    <tr>\n",
       "      <th>1</th>\n",
       "      <td>Portugal</td>\n",
       "      <td>87</td>\n",
       "      <td>15.0</td>\n",
       "      <td>Douro</td>\n",
       "      <td>Quinta dos Avidagos</td>\n",
       "      <td>0</td>\n",
       "      <td>2.772589</td>\n",
       "    </tr>\n",
       "    <tr>\n",
       "      <th>2</th>\n",
       "      <td>US</td>\n",
       "      <td>87</td>\n",
       "      <td>14.0</td>\n",
       "      <td>Oregon</td>\n",
       "      <td>Rainstorm</td>\n",
       "      <td>0</td>\n",
       "      <td>2.708050</td>\n",
       "    </tr>\n",
       "    <tr>\n",
       "      <th>3</th>\n",
       "      <td>US</td>\n",
       "      <td>87</td>\n",
       "      <td>13.0</td>\n",
       "      <td>Michigan</td>\n",
       "      <td>St. Julian</td>\n",
       "      <td>0</td>\n",
       "      <td>2.639057</td>\n",
       "    </tr>\n",
       "    <tr>\n",
       "      <th>4</th>\n",
       "      <td>US</td>\n",
       "      <td>87</td>\n",
       "      <td>65.0</td>\n",
       "      <td>Oregon</td>\n",
       "      <td>Sweet Cheeks</td>\n",
       "      <td>0</td>\n",
       "      <td>4.189655</td>\n",
       "    </tr>\n",
       "  </tbody>\n",
       "</table>\n",
       "</div>"
      ],
      "text/plain": [
       "    country  points  price           province               winery  \\\n",
       "0     Italy      87   27.0  Sicily & Sardinia              Nicosia   \n",
       "1  Portugal      87   15.0              Douro  Quinta dos Avidagos   \n",
       "2        US      87   14.0             Oregon            Rainstorm   \n",
       "3        US      87   13.0           Michigan           St. Julian   \n",
       "4        US      87   65.0             Oregon         Sweet Cheeks   \n",
       "\n",
       "   price_missing  log_price  \n",
       "0              1   3.332205  \n",
       "1              0   2.772589  \n",
       "2              0   2.708050  \n",
       "3              0   2.639057  \n",
       "4              0   4.189655  "
      ]
     },
     "execution_count": 52,
     "metadata": {},
     "output_type": "execute_result"
    }
   ],
   "source": [
    "logged_data.head()"
   ]
  },
  {
   "cell_type": "code",
   "execution_count": 53,
   "metadata": {},
   "outputs": [
    {
     "data": {
      "image/png": "[encoded data removed]",
      "text/plain": [
       "<Figure size 864x432 with 2 Axes>"
      ]
     },
     "metadata": {
      "needs_background": "light"
     },
     "output_type": "display_data"
    }
   ],
   "source": [
    "# Plotting a distribution plot, plus a Q-Q plot to check skew\n",
    "f, (ax1, ax2) = plt.subplots(1,2, figsize=(12,6))\n",
    "\n",
    "# By setting fit=norm, we can better compare to a normal distribution\n",
    "sns.distplot(logged_data[\"log_price\"], fit=norm, ax=ax1)\n",
    "stats.probplot(logged_data[\"log_price\"], plot=ax2)\n",
    "\n",
    "ax1.set_title(\"Distribution of the Log of Wine Prices\")\n",
    "ax1.set(xlabel=\"Wine Prices, Logged\", ylabel=\"Frequency\")\n",
    "\n",
    "plt.show()\n",
    "# Without removing any outliers, logging the price makes it more normal,\n",
    "# although it's still skewed. Should be good enough for now, but may want\n",
    "# to revisit and check outliers later."
   ]
  },
  {
   "cell_type": "code",
   "execution_count": 54,
   "metadata": {},
   "outputs": [],
   "source": [
    "# Because the log of price is more normal, for the rest of the analysis we'll\n",
    "# drop the actual price and our indicator column, price_missing\n",
    "\n",
    "logged_data.drop(columns=[\"price\", \"price_missing\"], inplace=True)"
   ]
  },
  {
   "cell_type": "code",
   "execution_count": 55,
   "metadata": {
    "scrolled": true
   },
   "outputs": [
    {
     "data": {
      "text/html": [
       "<div>\n",
       "<style scoped>\n",
       "    .dataframe tbody tr th:only-of-type {\n",
       "        vertical-align: middle;\n",
       "    }\n",
       "\n",
       "    .dataframe tbody tr th {\n",
       "        vertical-align: top;\n",
       "    }\n",
       "\n",
       "    .dataframe thead th {\n",
       "        text-align: right;\n",
       "    }\n",
       "</style>\n",
       "<table border=\"1\" class=\"dataframe\">\n",
       "  <thead>\n",
       "    <tr style=\"text-align: right;\">\n",
       "      <th></th>\n",
       "      <th>country</th>\n",
       "      <th>points</th>\n",
       "      <th>province</th>\n",
       "      <th>winery</th>\n",
       "      <th>log_price</th>\n",
       "    </tr>\n",
       "  </thead>\n",
       "  <tbody>\n",
       "    <tr>\n",
       "      <th>0</th>\n",
       "      <td>6</td>\n",
       "      <td>87</td>\n",
       "      <td>135</td>\n",
       "      <td>9818</td>\n",
       "      <td>3.332205</td>\n",
       "    </tr>\n",
       "    <tr>\n",
       "      <th>1</th>\n",
       "      <td>7</td>\n",
       "      <td>87</td>\n",
       "      <td>48</td>\n",
       "      <td>10908</td>\n",
       "      <td>2.772589</td>\n",
       "    </tr>\n",
       "    <tr>\n",
       "      <th>2</th>\n",
       "      <td>9</td>\n",
       "      <td>87</td>\n",
       "      <td>108</td>\n",
       "      <td>10959</td>\n",
       "      <td>2.708050</td>\n",
       "    </tr>\n",
       "    <tr>\n",
       "      <th>3</th>\n",
       "      <td>9</td>\n",
       "      <td>87</td>\n",
       "      <td>86</td>\n",
       "      <td>12081</td>\n",
       "      <td>2.639057</td>\n",
       "    </tr>\n",
       "    <tr>\n",
       "      <th>4</th>\n",
       "      <td>9</td>\n",
       "      <td>87</td>\n",
       "      <td>108</td>\n",
       "      <td>12271</td>\n",
       "      <td>4.189655</td>\n",
       "    </tr>\n",
       "  </tbody>\n",
       "</table>\n",
       "</div>"
      ],
      "text/plain": [
       "   country  points  province  winery  log_price\n",
       "0        6      87       135    9818   3.332205\n",
       "1        7      87        48   10908   2.772589\n",
       "2        9      87       108   10959   2.708050\n",
       "3        9      87        86   12081   2.639057\n",
       "4        9      87       108   12271   4.189655"
      ]
     },
     "execution_count": 55,
     "metadata": {},
     "output_type": "execute_result"
    }
   ],
   "source": [
    "# Now, let's deal with our categorical variables\n",
    "# There are too many unique entries in each of our categorical columns, so\n",
    "# instead we'll simply label encode each using sklearn\n",
    "\n",
    "from sklearn.preprocessing import LabelEncoder\n",
    "labeler = LabelEncoder()\n",
    "\n",
    "logged_data[\"country\"] = labeler.fit_transform(\n",
    "    logged_data[\"country\"].astype(str))\n",
    "logged_data[\"province\"] = labeler.fit_transform(\n",
    "    logged_data[\"province\"].astype(str))\n",
    "logged_data[\"winery\"] = labeler.fit_transform(\n",
    "    logged_data[\"winery\"].astype(str))\n",
    "\n",
    "# Note! We've done nothing to associate nearby countries with each other\n",
    "# We'll see how this does, and maybe will have to do some kind of sorting\n",
    "# later on if this does not produce the results we want\n",
    "logged_data.head()"
   ]
  },
  {
   "cell_type": "code",
   "execution_count": 56,
   "metadata": {
    "scrolled": true
   },
   "outputs": [
    {
     "name": "stderr",
     "output_type": "stream",
     "text": [
      "/anaconda3/lib/python3.7/site-packages/sklearn/preprocessing/data.py:334: DataConversionWarning: Data with input dtype int64, float64 were all converted to float64 by MinMaxScaler.\n",
      "  return self.partial_fit(X, y)\n"
     ]
    },
    {
     "data": {
      "text/html": [
       "<div>\n",
       "<style scoped>\n",
       "    .dataframe tbody tr th:only-of-type {\n",
       "        vertical-align: middle;\n",
       "    }\n",
       "\n",
       "    .dataframe tbody tr th {\n",
       "        vertical-align: top;\n",
       "    }\n",
       "\n",
       "    .dataframe thead th {\n",
       "        text-align: right;\n",
       "    }\n",
       "</style>\n",
       "<table border=\"1\" class=\"dataframe\">\n",
       "  <thead>\n",
       "    <tr style=\"text-align: right;\">\n",
       "      <th></th>\n",
       "      <th>country</th>\n",
       "      <th>points</th>\n",
       "      <th>province</th>\n",
       "      <th>winery</th>\n",
       "      <th>log_price</th>\n",
       "    </tr>\n",
       "  </thead>\n",
       "  <tbody>\n",
       "    <tr>\n",
       "      <th>0</th>\n",
       "      <td>0.666667</td>\n",
       "      <td>0.35</td>\n",
       "      <td>0.767045</td>\n",
       "      <td>0.702490</td>\n",
       "      <td>0.265345</td>\n",
       "    </tr>\n",
       "    <tr>\n",
       "      <th>1</th>\n",
       "      <td>0.777778</td>\n",
       "      <td>0.35</td>\n",
       "      <td>0.272727</td>\n",
       "      <td>0.780481</td>\n",
       "      <td>0.179152</td>\n",
       "    </tr>\n",
       "    <tr>\n",
       "      <th>2</th>\n",
       "      <td>1.000000</td>\n",
       "      <td>0.35</td>\n",
       "      <td>0.613636</td>\n",
       "      <td>0.784130</td>\n",
       "      <td>0.169211</td>\n",
       "    </tr>\n",
       "    <tr>\n",
       "      <th>3</th>\n",
       "      <td>1.000000</td>\n",
       "      <td>0.35</td>\n",
       "      <td>0.488636</td>\n",
       "      <td>0.864410</td>\n",
       "      <td>0.158585</td>\n",
       "    </tr>\n",
       "    <tr>\n",
       "      <th>4</th>\n",
       "      <td>1.000000</td>\n",
       "      <td>0.35</td>\n",
       "      <td>0.613636</td>\n",
       "      <td>0.878005</td>\n",
       "      <td>0.397412</td>\n",
       "    </tr>\n",
       "  </tbody>\n",
       "</table>\n",
       "</div>"
      ],
      "text/plain": [
       "    country  points  province    winery  log_price\n",
       "0  0.666667    0.35  0.767045  0.702490   0.265345\n",
       "1  0.777778    0.35  0.272727  0.780481   0.179152\n",
       "2  1.000000    0.35  0.613636  0.784130   0.169211\n",
       "3  1.000000    0.35  0.488636  0.864410   0.158585\n",
       "4  1.000000    0.35  0.613636  0.878005   0.397412"
      ]
     },
     "execution_count": 56,
     "metadata": {},
     "output_type": "execute_result"
    }
   ],
   "source": [
    "# All of our variables are on VASTLY different scales, so let's scale them \n",
    "# all to be between zero and one\n",
    "from sklearn.preprocessing import MinMaxScaler\n",
    "\n",
    "scaler = MinMaxScaler()\n",
    "scaled_data = scaler.fit_transform(logged_data)\n",
    "scaled_data = pd.DataFrame(scaled_data, columns=logged_data.columns)\n",
    "scaled_data.head()"
   ]
  },
  {
   "cell_type": "code",
   "execution_count": 57,
   "metadata": {
    "scrolled": true
   },
   "outputs": [
    {
     "data": {
      "text/html": [
       "<div>\n",
       "<style scoped>\n",
       "    .dataframe tbody tr th:only-of-type {\n",
       "        vertical-align: middle;\n",
       "    }\n",
       "\n",
       "    .dataframe tbody tr th {\n",
       "        vertical-align: top;\n",
       "    }\n",
       "\n",
       "    .dataframe thead th {\n",
       "        text-align: right;\n",
       "    }\n",
       "</style>\n",
       "<table border=\"1\" class=\"dataframe\">\n",
       "  <thead>\n",
       "    <tr style=\"text-align: right;\">\n",
       "      <th></th>\n",
       "      <th>country</th>\n",
       "      <th>points</th>\n",
       "      <th>province</th>\n",
       "      <th>winery</th>\n",
       "      <th>log_price</th>\n",
       "    </tr>\n",
       "  </thead>\n",
       "  <tbody>\n",
       "    <tr>\n",
       "      <th>count</th>\n",
       "      <td>101085.000000</td>\n",
       "      <td>101085.000000</td>\n",
       "      <td>101085.000000</td>\n",
       "      <td>101085.000000</td>\n",
       "      <td>101085.000000</td>\n",
       "    </tr>\n",
       "    <tr>\n",
       "      <th>mean</th>\n",
       "      <td>0.739389</td>\n",
       "      <td>0.427700</td>\n",
       "      <td>0.403967</td>\n",
       "      <td>0.523867</td>\n",
       "      <td>0.274762</td>\n",
       "    </tr>\n",
       "    <tr>\n",
       "      <th>std</th>\n",
       "      <td>0.299422</td>\n",
       "      <td>0.155447</td>\n",
       "      <td>0.302563</td>\n",
       "      <td>0.289150</td>\n",
       "      <td>0.095798</td>\n",
       "    </tr>\n",
       "    <tr>\n",
       "      <th>min</th>\n",
       "      <td>0.000000</td>\n",
       "      <td>0.000000</td>\n",
       "      <td>0.000000</td>\n",
       "      <td>0.000000</td>\n",
       "      <td>0.000000</td>\n",
       "    </tr>\n",
       "    <tr>\n",
       "      <th>25%</th>\n",
       "      <td>0.444444</td>\n",
       "      <td>0.300000</td>\n",
       "      <td>0.159091</td>\n",
       "      <td>0.299227</td>\n",
       "      <td>0.205621</td>\n",
       "    </tr>\n",
       "    <tr>\n",
       "      <th>50%</th>\n",
       "      <td>0.888889</td>\n",
       "      <td>0.400000</td>\n",
       "      <td>0.215909</td>\n",
       "      <td>0.545578</td>\n",
       "      <td>0.265345</td>\n",
       "    </tr>\n",
       "    <tr>\n",
       "      <th>75%</th>\n",
       "      <td>1.000000</td>\n",
       "      <td>0.550000</td>\n",
       "      <td>0.647727</td>\n",
       "      <td>0.774614</td>\n",
       "      <td>0.338423</td>\n",
       "    </tr>\n",
       "    <tr>\n",
       "      <th>max</th>\n",
       "      <td>1.000000</td>\n",
       "      <td>1.000000</td>\n",
       "      <td>1.000000</td>\n",
       "      <td>1.000000</td>\n",
       "      <td>1.000000</td>\n",
       "    </tr>\n",
       "  </tbody>\n",
       "</table>\n",
       "</div>"
      ],
      "text/plain": [
       "             country         points       province         winery  \\\n",
       "count  101085.000000  101085.000000  101085.000000  101085.000000   \n",
       "mean        0.739389       0.427700       0.403967       0.523867   \n",
       "std         0.299422       0.155447       0.302563       0.289150   \n",
       "min         0.000000       0.000000       0.000000       0.000000   \n",
       "25%         0.444444       0.300000       0.159091       0.299227   \n",
       "50%         0.888889       0.400000       0.215909       0.545578   \n",
       "75%         1.000000       0.550000       0.647727       0.774614   \n",
       "max         1.000000       1.000000       1.000000       1.000000   \n",
       "\n",
       "           log_price  \n",
       "count  101085.000000  \n",
       "mean        0.274762  \n",
       "std         0.095798  \n",
       "min         0.000000  \n",
       "25%         0.205621  \n",
       "50%         0.265345  \n",
       "75%         0.338423  \n",
       "max         1.000000  "
      ]
     },
     "execution_count": 57,
     "metadata": {},
     "output_type": "execute_result"
    }
   ],
   "source": [
    "scaled_data.describe()"
   ]
  },
  {
   "cell_type": "code",
   "execution_count": 58,
   "metadata": {
    "scrolled": true
   },
   "outputs": [
    {
     "data": {
      "text/plain": [
       "[]"
      ]
     },
     "execution_count": 58,
     "metadata": {},
     "output_type": "execute_result"
    },
    {
     "data": {
      "image/png": "[encoded data removed]",
      "text/plain": [
       "<Figure size 720x360 with 1 Axes>"
      ]
     },
     "metadata": {
      "needs_background": "light"
     },
     "output_type": "display_data"
    }
   ],
   "source": [
    "# Checking out the distributions, via boxplots\n",
    "plt.figure(figsize=(10,5))\n",
    "sns.boxplot(data=scaled_data)\n",
    "plt.plot()"
   ]
  },
  {
   "cell_type": "code",
   "execution_count": 59,
   "metadata": {},
   "outputs": [],
   "source": [
    "# Creating a correlation df to investigate correlation between variables\n",
    "map_corr = np.corrcoef(scaled_data, rowvar=False)"
   ]
  },
  {
   "cell_type": "code",
   "execution_count": 60,
   "metadata": {},
   "outputs": [],
   "source": [
    "# Prepping the correlation dataframe to be visualized\n",
    "map_corr = pd.DataFrame(map_corr,\n",
    "                        columns=scaled_data.columns,\n",
    "                        index=scaled_data.columns)"
   ]
  },
  {
   "cell_type": "code",
   "execution_count": 61,
   "metadata": {
    "scrolled": false
   },
   "outputs": [
    {
     "data": {
      "image/png": "[encoded data removed]",
      "text/plain": [
       "<Figure size 864x720 with 2 Axes>"
      ]
     },
     "metadata": {
      "needs_background": "light"
     },
     "output_type": "display_data"
    }
   ],
   "source": [
    "# Plotting the correlation between variables - shouldn't surprise us that \n",
    "# price and points are correlated. The rest aren't particularly correlated\n",
    "plt.figure(figsize=(12,10))\n",
    "ax = sns.heatmap(data = map_corr)\n",
    "plt.xticks(rotation=45) \n",
    "plt.show()"
   ]
  },
  {
   "cell_type": "code",
   "execution_count": 62,
   "metadata": {},
   "outputs": [],
   "source": [
    "# Need a new train/test split\n",
    "\n",
    "X_train, X_test, y_train, y_test = train_test_split(\n",
    "    scaled_data, y, test_size=.25, random_state=543)"
   ]
  },
  {
   "cell_type": "code",
   "execution_count": 63,
   "metadata": {},
   "outputs": [],
   "source": [
    "# Now let's try another logistic regression model on this data!\n",
    "logreg_scaled = LogisticRegression(class_weight=\"balanced\",\n",
    "                                   solver=\"lbfgs\",\n",
    "                                   random_state=543)\n",
    "\n",
    "logreg_scaled.fit(X_train, y_train)\n",
    "log_scaled_preds = logreg_scaled.predict(X_test)"
   ]
  },
  {
   "cell_type": "code",
   "execution_count": 64,
   "metadata": {
    "scrolled": false
   },
   "outputs": [
    {
     "name": "stdout",
     "output_type": "stream",
     "text": [
      "Training Accuracy: 0.6266999063485155\n",
      "Testing Accuracy: 0.6320829376384932\n",
      "              precision    recall  f1-score   support\n",
      "\n",
      "         red       0.75      0.62      0.68     15739\n",
      "       white       0.51      0.65      0.57      9533\n",
      "\n",
      "   micro avg       0.63      0.63      0.63     25272\n",
      "   macro avg       0.63      0.64      0.62     25272\n",
      "weighted avg       0.66      0.63      0.64     25272\n",
      "\n"
     ]
    },
    {
     "data": {
      "image/png": "[encoded data removed]",
      "text/plain": [
       "<Figure size 432x288 with 2 Axes>"
      ]
     },
     "metadata": {
      "needs_background": "light"
     },
     "output_type": "display_data"
    }
   ],
   "source": [
    "print_scores(logreg_scaled, X_train, X_test, y_train, y_test, log_scaled_preds)\n",
    "vis_cm(y_test, log_scaled_preds)"
   ]
  },
  {
   "cell_type": "markdown",
   "metadata": {},
   "source": [
    "So our model improved for sure, back up to 62% accuracy, but it's not great. We could further play around with the parameters within this model, but let's try a different type of model - the answer might be that a logistic regression model may not be the best bet for this data."
   ]
  },
  {
   "cell_type": "markdown",
   "metadata": {},
   "source": [
    "## Next Step - Decision Trees"
   ]
  },
  {
   "cell_type": "code",
   "execution_count": 65,
   "metadata": {},
   "outputs": [],
   "source": [
    "from sklearn.tree import DecisionTreeClassifier\n",
    "\n",
    "# Once again, just using the out-of-the-box default settings\n",
    "dec_tree = DecisionTreeClassifier(random_state=543)\n",
    "\n",
    "dec_tree.fit(X_train, y_train)\n",
    "tree_preds = dec_tree.predict(X_test)"
   ]
  },
  {
   "cell_type": "code",
   "execution_count": 66,
   "metadata": {
    "scrolled": false
   },
   "outputs": [
    {
     "name": "stdout",
     "output_type": "stream",
     "text": [
      "Training Accuracy: 0.9804650917388839\n",
      "Testing Accuracy: 0.7809037670148782\n",
      "              precision    recall  f1-score   support\n",
      "\n",
      "         red       0.82      0.84      0.83     15739\n",
      "       white       0.72      0.69      0.70      9533\n",
      "\n",
      "   micro avg       0.78      0.78      0.78     25272\n",
      "   macro avg       0.77      0.76      0.77     25272\n",
      "weighted avg       0.78      0.78      0.78     25272\n",
      "\n"
     ]
    },
    {
     "data": {
      "image/png": "[encoded data removed]",
      "text/plain": [
       "<Figure size 432x288 with 2 Axes>"
      ]
     },
     "metadata": {
      "needs_background": "light"
     },
     "output_type": "display_data"
    }
   ],
   "source": [
    "print_scores(dec_tree, X_train, X_test, y_train,\n",
    "             y_test, tree_preds)\n",
    "vis_cm(y_test, tree_preds)"
   ]
  },
  {
   "cell_type": "markdown",
   "metadata": {},
   "source": [
    "Better than our logistic regression model! But, look at the difference between our training and testing mean accuracy scores - we can tell our model is really overfit. We can fix this by adjusting some of the hyperparameters that go into our decision tree model."
   ]
  },
  {
   "cell_type": "code",
   "execution_count": 79,
   "metadata": {},
   "outputs": [
    {
     "data": {
      "text/plain": [
       "{'class_weight': None,\n",
       " 'criterion': 'gini',\n",
       " 'max_depth': 9,\n",
       " 'min_samples_split': 3}"
      ]
     },
     "execution_count": 79,
     "metadata": {},
     "output_type": "execute_result"
    }
   ],
   "source": [
    "# Let's do a grid search! These are only as good as the parameters we put in\n",
    "# the grid to test, but it'll certainly give us some direction\n",
    "from sklearn.model_selection import GridSearchCV\n",
    "\n",
    "# Let's try different options for criterion, max_depth and min_samples_split,\n",
    "# and also test whether the class imbalance between red and white is affecting\n",
    "# our results by balancing our class_weight\n",
    "param_grid_tree = {\n",
    "    \"criterion\": [\"gini\", \"entropy\"],\n",
    "    \"max_depth\": range(1,10),\n",
    "    \"min_samples_split\": range(2,10),\n",
    "    \"class_weight\": [None, \"balanced\"]\n",
    "}\n",
    "\n",
    "gs_tree = GridSearchCV(dec_tree, param_grid_tree, cv=3)\n",
    "gs_tree.fit(X_train, y_train)\n",
    "\n",
    "# By calling best_params_, this model will tell us what had the best results\n",
    "# Note that this will simply use dec_tree.score, which gives mean accuracy\n",
    "gs_tree.best_params_\n",
    "\n",
    "# Warning, running this can take a few minutes"
   ]
  },
  {
   "cell_type": "code",
   "execution_count": 80,
   "metadata": {
    "scrolled": false
   },
   "outputs": [
    {
     "name": "stdout",
     "output_type": "stream",
     "text": [
      "Training Accuracy: 0.7559257647105377\n",
      "Testing Accuracy: 0.7459243431465654\n",
      "              precision    recall  f1-score   support\n",
      "\n",
      "         red       0.79      0.80      0.80     15739\n",
      "       white       0.67      0.66      0.66      9533\n",
      "\n",
      "   micro avg       0.75      0.75      0.75     25272\n",
      "   macro avg       0.73      0.73      0.73     25272\n",
      "weighted avg       0.75      0.75      0.75     25272\n",
      "\n"
     ]
    },
    {
     "data": {
      "image/png": "[encoded data removed]",
      "text/plain": [
       "<Figure size 432x288 with 2 Axes>"
      ]
     },
     "metadata": {
      "needs_background": "light"
     },
     "output_type": "display_data"
    }
   ],
   "source": [
    "grid_tree = DecisionTreeClassifier(criterion=\"gini\",\n",
    "                                   max_depth=9,\n",
    "                                   min_samples_split=3,\n",
    "                                   class_weight=None,\n",
    "                                   random_state=543)\n",
    "\n",
    "grid_tree.fit(X_train, y_train)\n",
    "grid_tree_preds = grid_tree.predict(X_test)\n",
    "\n",
    "print_scores(grid_tree, X_train, X_test, y_train,\n",
    "             y_test, grid_tree_preds)\n",
    "vis_cm(y_test, grid_tree_preds)"
   ]
  },
  {
   "cell_type": "markdown",
   "metadata": {},
   "source": [
    "Much more balanced between training and testing data! It's not a perfect model, by any stretch, but we've overcome our overfitting problem and have improved upon our logistic regression models."
   ]
  },
  {
   "cell_type": "code",
   "execution_count": 82,
   "metadata": {},
   "outputs": [
    {
     "data": {
      "image/png": "[encoded data removed]",
      "text/plain": [
       "<Figure size 576x576 with 1 Axes>"
      ]
     },
     "metadata": {
      "needs_background": "light"
     },
     "output_type": "display_data"
    }
   ],
   "source": [
    "# Let's just check which features are important for this single tree\n",
    "\n",
    "# This function was taken from learn.co, and visualizes a model's \n",
    "# .feature_importances_ attribute in order to see what's used to predict color\n",
    "def plot_feature_importances(model):\n",
    "    n_features = X_train.shape[1]\n",
    "    \n",
    "    plt.figure(figsize=(8,8))\n",
    "    plt.barh(range(n_features), model.feature_importances_, align='center')\n",
    "    \n",
    "    plt.yticks(np.arange(n_features), X_train.columns.values) \n",
    "    plt.xlabel(\"Feature Importance\")\n",
    "    plt.ylabel(\"Feature\")\n",
    "    plt.show()\n",
    "\n",
    "plot_feature_importances(grid_tree)"
   ]
  },
  {
   "cell_type": "markdown",
   "metadata": {},
   "source": [
    "## Random Forests"
   ]
  },
  {
   "cell_type": "code",
   "execution_count": 84,
   "metadata": {
    "scrolled": false
   },
   "outputs": [
    {
     "name": "stderr",
     "output_type": "stream",
     "text": [
      "/anaconda3/lib/python3.7/site-packages/sklearn/ensemble/forest.py:246: FutureWarning: The default value of n_estimators will change from 10 in version 0.20 to 100 in 0.22.\n",
      "  \"10 in version 0.20 to 100 in 0.22.\", FutureWarning)\n"
     ]
    },
    {
     "name": "stdout",
     "output_type": "stream",
     "text": [
      "Training Accuracy: 0.9659161357550816\n",
      "Testing Accuracy: 0.7883428300094967\n",
      "              precision    recall  f1-score   support\n",
      "\n",
      "         red       0.81      0.86      0.84     15739\n",
      "       white       0.75      0.67      0.70      9533\n",
      "\n",
      "   micro avg       0.79      0.79      0.79     25272\n",
      "   macro avg       0.78      0.76      0.77     25272\n",
      "weighted avg       0.79      0.79      0.79     25272\n",
      "\n"
     ]
    },
    {
     "data": {
      "image/png": "[encoded data removed]",
      "text/plain": [
       "<Figure size 432x288 with 2 Axes>"
      ]
     },
     "metadata": {
      "needs_background": "light"
     },
     "output_type": "display_data"
    }
   ],
   "source": [
    "# Let's jump straight in and train a random forest model!\n",
    "from sklearn.ensemble import RandomForestClassifier\n",
    "\n",
    "# As usual, let's run it on default settings first\n",
    "ran_forest = RandomForestClassifier(random_state=543)\n",
    "\n",
    "ran_forest.fit(X_train, y_train)\n",
    "ran_for_preds = ran_forest.predict(X_test)\n",
    "\n",
    "print_scores(ran_forest, X_train, X_test, y_train,\n",
    "             y_test, ran_for_preds)\n",
    "vis_cm(y_test, ran_for_preds)"
   ]
  },
  {
   "cell_type": "markdown",
   "metadata": {},
   "source": [
    "Predictably, like with our out-of-the-box decision tree, this model is overfit - pretty big difference between training and testing accuracy. So let's do another grid search!"
   ]
  },
  {
   "cell_type": "code",
   "execution_count": 95,
   "metadata": {
    "scrolled": false
   },
   "outputs": [
    {
     "name": "stdout",
     "output_type": "stream",
     "text": [
      "Training Accuracy: 0.7039294052471212\n",
      "Testing Accuracy: 0.7051282051282052\n",
      "              precision    recall  f1-score   support\n",
      "\n",
      "         red       0.84      0.65      0.73     15739\n",
      "       white       0.58      0.80      0.67      9533\n",
      "\n",
      "   micro avg       0.71      0.71      0.71     25272\n",
      "   macro avg       0.71      0.72      0.70     25272\n",
      "weighted avg       0.74      0.71      0.71     25272\n",
      "\n"
     ]
    },
    {
     "data": {
      "image/png": "[encoded data removed]",
      "text/plain": [
       "<Figure size 432x288 with 2 Axes>"
      ]
     },
     "metadata": {
      "needs_background": "light"
     },
     "output_type": "display_data"
    }
   ],
   "source": [
    "# Now let's try with some arbitrary hyperparameters, just guessing\n",
    "arb_ran_forest = RandomForestClassifier(n_estimators=100,\n",
    "                                        max_depth=5,\n",
    "                                        min_samples_split=3,\n",
    "                                        class_weight=\"balanced_subsample\",\n",
    "                                        random_state=543)\n",
    "\n",
    "arb_ran_forest.fit(X_train, y_train)\n",
    "arb_for_preds = arb_ran_forest.predict(X_test)\n",
    "\n",
    "print_scores(arb_ran_forest, X_train, X_test, y_train,\n",
    "             y_test, arb_for_preds)\n",
    "vis_cm(y_test, arb_for_preds)"
   ]
  },
  {
   "cell_type": "markdown",
   "metadata": {},
   "source": [
    "Yikes, it got worse. Well, just proves that we should run a gridsearch for hyperparameters, rather than guessing at random."
   ]
  },
  {
   "cell_type": "code",
   "execution_count": 89,
   "metadata": {},
   "outputs": [
    {
     "data": {
      "text/plain": [
       "{'class_weight': None,\n",
       " 'max_depth': 9,\n",
       " 'min_samples_split': 2,\n",
       " 'n_estimators': 100}"
      ]
     },
     "execution_count": 89,
     "metadata": {},
     "output_type": "execute_result"
    }
   ],
   "source": [
    "# Setting some hyperparameters to test. Rather than using ranges, like I did\n",
    "# for the decision tree, I chose some at random just to test (otherwise this\n",
    "# would take even longer to run)\n",
    "param_grid_forest = {\n",
    "    \"n_estimators\": [10, 100],\n",
    "    \"max_depth\": [1, 3, 5, 9],\n",
    "    \"min_samples_split\": [2, 3, 5],\n",
    "    \"class_weight\": [None, \"balanced\", \"balanced_subsample\"]\n",
    "}\n",
    "\n",
    "gs_forest = GridSearchCV(ran_forest, param_grid_forest, cv=3)\n",
    "gs_forest.fit(X_train, y_train)\n",
    "\n",
    "gs_forest.best_params_\n",
    "\n",
    "# Warning, running this will take more than a few minutes"
   ]
  },
  {
   "cell_type": "code",
   "execution_count": 90,
   "metadata": {},
   "outputs": [
    {
     "name": "stdout",
     "output_type": "stream",
     "text": [
      "Training Accuracy: 0.7800377244008283\n",
      "Testing Accuracy: 0.7668170307059196\n",
      "              precision    recall  f1-score   support\n",
      "\n",
      "         red       0.78      0.87      0.82     15739\n",
      "       white       0.73      0.60      0.66      9533\n",
      "\n",
      "   micro avg       0.77      0.77      0.77     25272\n",
      "   macro avg       0.76      0.73      0.74     25272\n",
      "weighted avg       0.76      0.77      0.76     25272\n",
      "\n"
     ]
    },
    {
     "data": {
      "image/png": "[encoded data removed]",
      "text/plain": [
       "<Figure size 432x288 with 2 Axes>"
      ]
     },
     "metadata": {
      "needs_background": "light"
     },
     "output_type": "display_data"
    }
   ],
   "source": [
    "grid_forest = RandomForestClassifier(n_estimators=100, \n",
    "                                     max_depth=9, \n",
    "                                     min_samples_split=2, \n",
    "                                     class_weight=None, \n",
    "                                     random_state=543)\n",
    "\n",
    "grid_forest.fit(X_train, y_train)\n",
    "grid_for_preds = grid_forest.predict(X_test)\n",
    "\n",
    "print_scores(grid_forest, X_train, X_test, y_train,\n",
    "             y_test, grid_for_preds)\n",
    "vis_cm(y_test, grid_for_preds)"
   ]
  },
  {
   "cell_type": "markdown",
   "metadata": {},
   "source": [
    "So this was a slight improvement over a single decision tree, but only about a 2% increase in testing accuracy was probably not worth the 10 minute grid search I ran. But at least the model isn't overfit like before?"
   ]
  },
  {
   "cell_type": "markdown",
   "metadata": {},
   "source": [
    "## AdaBoost"
   ]
  },
  {
   "cell_type": "code",
   "execution_count": null,
   "metadata": {},
   "outputs": [],
   "source": []
  },
  {
   "cell_type": "markdown",
   "metadata": {},
   "source": [
    "## K-Nearest Neighbors"
   ]
  },
  {
   "cell_type": "code",
   "execution_count": null,
   "metadata": {},
   "outputs": [],
   "source": []
  }
 ],
 "metadata": {
  "kernelspec": {
   "display_name": "Python 3",
   "language": "python",
   "name": "python3"
  },
  "language_info": {
   "codemirror_mode": {
    "name": "ipython",
    "version": 3
   },
   "file_extension": ".py",
   "mimetype": "text/x-python",
   "name": "python",
   "nbconvert_exporter": "python",
   "pygments_lexer": "ipython3",
   "version": "3.7.3"
  }
 },
 "nbformat": 4,
 "nbformat_minor": 2
}
